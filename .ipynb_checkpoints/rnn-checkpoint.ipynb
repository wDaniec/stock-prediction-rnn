{
 "cells": [
  {
   "cell_type": "code",
   "execution_count": 6,
   "metadata": {},
   "outputs": [],
   "source": [
    "import pandas as pd\n",
    "import numpy as np\n",
    "import matplotlib.pyplot as plt"
   ]
  },
  {
   "cell_type": "code",
   "execution_count": 7,
   "metadata": {},
   "outputs": [
    {
     "data": {
      "text/html": [
       "<div>\n",
       "<style scoped>\n",
       "    .dataframe tbody tr th:only-of-type {\n",
       "        vertical-align: middle;\n",
       "    }\n",
       "\n",
       "    .dataframe tbody tr th {\n",
       "        vertical-align: top;\n",
       "    }\n",
       "\n",
       "    .dataframe thead th {\n",
       "        text-align: right;\n",
       "    }\n",
       "</style>\n",
       "<table border=\"1\" class=\"dataframe\">\n",
       "  <thead>\n",
       "    <tr style=\"text-align: right;\">\n",
       "      <th></th>\n",
       "      <th>Zamkniecie</th>\n",
       "    </tr>\n",
       "  </thead>\n",
       "  <tbody>\n",
       "    <tr>\n",
       "      <th>0</th>\n",
       "      <td>4.30683</td>\n",
       "    </tr>\n",
       "    <tr>\n",
       "      <th>1</th>\n",
       "      <td>4.30491</td>\n",
       "    </tr>\n",
       "    <tr>\n",
       "      <th>2</th>\n",
       "      <td>4.30960</td>\n",
       "    </tr>\n",
       "    <tr>\n",
       "      <th>3</th>\n",
       "      <td>4.32586</td>\n",
       "    </tr>\n",
       "    <tr>\n",
       "      <th>4</th>\n",
       "      <td>4.33844</td>\n",
       "    </tr>\n",
       "    <tr>\n",
       "      <th>...</th>\n",
       "      <td>...</td>\n",
       "    </tr>\n",
       "    <tr>\n",
       "      <th>770</th>\n",
       "      <td>4.32382</td>\n",
       "    </tr>\n",
       "    <tr>\n",
       "      <th>771</th>\n",
       "      <td>4.32913</td>\n",
       "    </tr>\n",
       "    <tr>\n",
       "      <th>772</th>\n",
       "      <td>4.31751</td>\n",
       "    </tr>\n",
       "    <tr>\n",
       "      <th>773</th>\n",
       "      <td>4.30592</td>\n",
       "    </tr>\n",
       "    <tr>\n",
       "      <th>774</th>\n",
       "      <td>4.29582</td>\n",
       "    </tr>\n",
       "  </tbody>\n",
       "</table>\n",
       "<p>775 rows × 1 columns</p>\n",
       "</div>"
      ],
      "text/plain": [
       "     Zamkniecie\n",
       "0       4.30683\n",
       "1       4.30491\n",
       "2       4.30960\n",
       "3       4.32586\n",
       "4       4.33844\n",
       "..          ...\n",
       "770     4.32382\n",
       "771     4.32913\n",
       "772     4.31751\n",
       "773     4.30592\n",
       "774     4.29582\n",
       "\n",
       "[775 rows x 1 columns]"
      ]
     },
     "execution_count": 7,
     "metadata": {},
     "output_type": "execute_result"
    }
   ],
   "source": [
    "dane = pd.read_csv(\"eurpln_d.csv\")\n",
    "kopia = dane.copy()\n",
    "dane = dane.drop([\"Data\",\"Otwarcie\",\"Najwyzszy\",\"Najnizszy\"], axis=1)\n",
    "dane"
   ]
  },
  {
   "cell_type": "code",
   "execution_count": 8,
   "metadata": {},
   "outputs": [
    {
     "data": {
      "text/html": [
       "<div>\n",
       "<style scoped>\n",
       "    .dataframe tbody tr th:only-of-type {\n",
       "        vertical-align: middle;\n",
       "    }\n",
       "\n",
       "    .dataframe tbody tr th {\n",
       "        vertical-align: top;\n",
       "    }\n",
       "\n",
       "    .dataframe thead th {\n",
       "        text-align: right;\n",
       "    }\n",
       "</style>\n",
       "<table border=\"1\" class=\"dataframe\">\n",
       "  <thead>\n",
       "    <tr style=\"text-align: right;\">\n",
       "      <th></th>\n",
       "      <th>Zamkniecie</th>\n",
       "      <th>d1</th>\n",
       "      <th>d2</th>\n",
       "      <th>d3</th>\n",
       "    </tr>\n",
       "  </thead>\n",
       "  <tbody>\n",
       "    <tr>\n",
       "      <th>3</th>\n",
       "      <td>4.32586</td>\n",
       "      <td>4.30960</td>\n",
       "      <td>4.30491</td>\n",
       "      <td>4.30683</td>\n",
       "    </tr>\n",
       "    <tr>\n",
       "      <th>4</th>\n",
       "      <td>4.33844</td>\n",
       "      <td>4.32586</td>\n",
       "      <td>4.30960</td>\n",
       "      <td>4.30491</td>\n",
       "    </tr>\n",
       "    <tr>\n",
       "      <th>5</th>\n",
       "      <td>4.33067</td>\n",
       "      <td>4.33844</td>\n",
       "      <td>4.32586</td>\n",
       "      <td>4.30960</td>\n",
       "    </tr>\n",
       "  </tbody>\n",
       "</table>\n",
       "</div>"
      ],
      "text/plain": [
       "   Zamkniecie       d1       d2       d3\n",
       "3     4.32586  4.30960  4.30491  4.30683\n",
       "4     4.33844  4.32586  4.30960  4.30491\n",
       "5     4.33067  4.33844  4.32586  4.30960"
      ]
     },
     "execution_count": 8,
     "metadata": {},
     "output_type": "execute_result"
    }
   ],
   "source": [
    "#dodanie opoznien rzedu 1,2,3\n",
    "dane[\"d1\"] = dane[\"Zamkniecie\"].shift(1)\n",
    "dane[\"d2\"] = dane[\"Zamkniecie\"].shift(2)\n",
    "dane[\"d3\"] = dane[\"Zamkniecie\"].shift(3)\n",
    "dane.dropna(axis=0,inplace=True)\n",
    "dane.head(3)\n",
    "#dane.plot()\n",
    "#plt.show()"
   ]
  },
  {
   "cell_type": "code",
   "execution_count": 139,
   "metadata": {},
   "outputs": [],
   "source": [
    "#Training and test sets, transforming to tensors\n",
    "n = len(dane)\n",
    "train = torch.Tensor(dane[:int(0.8*n)].to_numpy())\n",
    "test = torch.Tensor(dane[int(0.8*n):].to_numpy())\n",
    "\n",
    "#szukam max i min aby znormalizowac dane od przedzialu [0,1]\n",
    "train_min_max = [torch.min(train,dim = 0,keepdim=True).values,torch.max(train,dim = 0,keepdim=True).values]\n",
    "test_min_max = [torch.min(test,dim = 0,keepdim=True).values,torch.max(test,dim = 0,keepdim=True).values]\n",
    "#z logiczengo punktu widzenia jest to troche glupie ze szuam dla wszystkich kolumn (sa takie same- ale w przszlosci moze sie to zmienic)\n",
    "\n",
    "#skalowanie danych do przedzialu [0,1]\n",
    "train = (train - train_min_max[0])/(train_min_max[1]-train_min_max[0])\n",
    "test = (test - test_min_max[0])/(test_min_max[1]-test_min_max[0])"
   ]
  },
  {
   "cell_type": "code",
   "execution_count": 45,
   "metadata": {},
   "outputs": [
    {
     "data": {
      "text/plain": [
       "torch.Size([617, 3])"
      ]
     },
     "execution_count": 45,
     "metadata": {},
     "output_type": "execute_result"
    }
   ],
   "source": [
    "train[:,1:4].shape"
   ]
  },
  {
   "cell_type": "code",
   "execution_count": null,
   "metadata": {},
   "outputs": [],
   "source": []
  },
  {
   "cell_type": "code",
   "execution_count": 75,
   "metadata": {},
   "outputs": [],
   "source": [
    "import torch\n",
    "import torch.nn as nn\n",
    "import torch.nn.functional as F"
   ]
  },
  {
   "cell_type": "code",
   "execution_count": 132,
   "metadata": {},
   "outputs": [],
   "source": [
    "class NeuralNetwork(nn.Module):\n",
    "    def __init__ (self,input_size):\n",
    "        super(NeuralNetwork, self).__init__()\n",
    "        self.fc1 = nn.Linear(input_size,16)\n",
    "        self.fc2 = nn.Linear(16,8)\n",
    "        self.fc3 = nn.Linear(8,1)\n",
    "        \n",
    "    def forward(self,x):\n",
    "        x = self.fc1(x)\n",
    "        x = self.fc2(x)\n",
    "        x = F.relu(self.fc3(x))\n",
    "        return x\n",
    "    \n",
    "    "
   ]
  },
  {
   "cell_type": "code",
   "execution_count": 140,
   "metadata": {},
   "outputs": [],
   "source": [
    "net = NeuralNetwork(input_size=3)\n",
    "criterion = nn.MSELoss()\n",
    "optimizer = torch.optim.Adam(net.parameters(), lr=0.0001)"
   ]
  },
  {
   "cell_type": "code",
   "execution_count": 141,
   "metadata": {},
   "outputs": [
    {
     "name": "stderr",
     "output_type": "stream",
     "text": [
      "C:\\Programmy\\Anaconda\\lib\\site-packages\\torch\\nn\\modules\\loss.py:431: UserWarning: Using a target size (torch.Size([])) that is different to the input size (torch.Size([1])). This will likely lead to incorrect results due to broadcasting. Please ensure they have the same size.\n",
      "  return F.mse_loss(input, target, reduction=self.reduction)\n"
     ]
    },
    {
     "name": "stdout",
     "output_type": "stream",
     "text": [
      "tensor(0.0018, grad_fn=<MseLossBackward>)\n",
      "tensor(0.0021, grad_fn=<MseLossBackward>)\n",
      "tensor(0.0038, grad_fn=<MseLossBackward>)\n",
      "tensor(0.0059, grad_fn=<MseLossBackward>)\n",
      "tensor(0.0075, grad_fn=<MseLossBackward>)\n",
      "tensor(0.0084, grad_fn=<MseLossBackward>)\n",
      "tensor(0.0088, grad_fn=<MseLossBackward>)\n",
      "tensor(0.0089, grad_fn=<MseLossBackward>)\n",
      "tensor(0.0089, grad_fn=<MseLossBackward>)\n",
      "tensor(0.0088, grad_fn=<MseLossBackward>)\n",
      "tensor(0.0086, grad_fn=<MseLossBackward>)\n",
      "tensor(0.0085, grad_fn=<MseLossBackward>)\n",
      "tensor(0.0083, grad_fn=<MseLossBackward>)\n",
      "tensor(0.0082, grad_fn=<MseLossBackward>)\n",
      "tensor(0.0081, grad_fn=<MseLossBackward>)\n",
      "tensor(0.0079, grad_fn=<MseLossBackward>)\n",
      "tensor(0.0078, grad_fn=<MseLossBackward>)\n",
      "tensor(0.0076, grad_fn=<MseLossBackward>)\n",
      "tensor(0.0075, grad_fn=<MseLossBackward>)\n",
      "tensor(0.0074, grad_fn=<MseLossBackward>)\n"
     ]
    }
   ],
   "source": [
    "#learning the model\n",
    "for epoch in range(20):\n",
    "    for i, data in enumerate(train):\n",
    "        #getting the data\n",
    "        inputs, labels = data[1:4], data[0]\n",
    "        \n",
    "        #zero the parameters gradient\n",
    "        optimizer.zero_grad()\n",
    "        \n",
    "        #forward, backward, optimize\n",
    "        outputs = net(inputs)\n",
    "        loss = criterion(outputs, labels)\n",
    "        loss.backward()\n",
    "        optimizer.step()\n",
    "    print(loss)\n",
    "        "
   ]
  },
  {
   "cell_type": "code",
   "execution_count": 142,
   "metadata": {},
   "outputs": [],
   "source": [
    "#making predictions\n",
    "predictions = []\n",
    "net.eval()\n",
    "for i, data in enumerate(test):\n",
    "    \n",
    "    inputs, labels = data[1:4], data[0]\n",
    "\n",
    "    predicted = net(inputs)\n",
    "    predictions.append(predicted)"
   ]
  },
  {
   "cell_type": "code",
   "execution_count": 143,
   "metadata": {},
   "outputs": [
    {
     "name": "stdout",
     "output_type": "stream",
     "text": [
      "tensor(4.3917)\n",
      "[tensor([0.3510], grad_fn=<ReluBackward0>), tensor([0.4103], grad_fn=<ReluBackward0>), tensor([0.4089], grad_fn=<ReluBackward0>), tensor([0.4798], grad_fn=<ReluBackward0>), tensor([0.4722], grad_fn=<ReluBackward0>), tensor([0.5453], grad_fn=<ReluBackward0>), tensor([0.5298], grad_fn=<ReluBackward0>), tensor([0.5649], grad_fn=<ReluBackward0>), tensor([0.5614], grad_fn=<ReluBackward0>), tensor([0.5829], grad_fn=<ReluBackward0>)]\n"
     ]
    },
    {
     "data": {
      "text/plain": [
       "tensor(4.2221)"
      ]
     },
     "execution_count": 143,
     "metadata": {},
     "output_type": "execute_result"
    }
   ],
   "source": [
    "print(test_min_max[1][0][0])\n",
    "print(predictions[:10])\n",
    "test_min_max[0][0][0]"
   ]
  },
  {
   "cell_type": "code",
   "execution_count": 144,
   "metadata": {},
   "outputs": [
    {
     "name": "stdout",
     "output_type": "stream",
     "text": [
      "tensor([0.3510, 0.4103, 0.4089, 0.4798, 0.4722, 0.5453, 0.5298, 0.5649, 0.5614,\n",
      "        0.5829])\n"
     ]
    },
    {
     "data": {
      "image/png": "[encoded data removed]",
      "text/plain": [
       "<Figure size 432x288 with 1 Axes>"
      ]
     },
     "metadata": {
      "needs_background": "light"
     },
     "output_type": "display_data"
    },
    {
     "data": {
      "text/plain": [
       "tensor([4.2816, 4.2917, 4.2914, 4.3035, 4.3022, 4.3146, 4.3120, 4.3179, 4.3173,\n",
       "        4.3210])"
      ]
     },
     "execution_count": 144,
     "metadata": {},
     "output_type": "execute_result"
    }
   ],
   "source": [
    "#najpierw \"odskaluje\" dane\n",
    "predictions = torch.Tensor(predictions)\n",
    "print(predictions[:10])\n",
    "predictions = predictions*(test_min_max[1][0][0]-test_min_max[0][0][0])+test_min_max[0][0][0]\n",
    "#tutaj pasuje sie zastanowic czy nie ma bledu metodologicznego\n",
    "#bo mam watpliwosci czy uzywanie statystyk zbioru testowego dla predykcji jest uzasadnione\n",
    "test = test*(test_min_max[1]-test_min_max[0])+test_min_max[0]\n",
    "\n",
    "plt.plot(np.array(predictions))\n",
    "plt.plot(test[:,0])\n",
    "plt.show()\n",
    "predictions[:10]"
   ]
  }
 ],
 "metadata": {
  "kernelspec": {
   "display_name": "Python 3",
   "language": "python",
   "name": "python3"
  },
  "language_info": {
   "codemirror_mode": {
    "name": "ipython",
    "version": 3
   },
   "file_extension": ".py",
   "mimetype": "text/x-python",
   "name": "python",
   "nbconvert_exporter": "python",
   "pygments_lexer": "ipython3",
   "version": "3.7.3"
  }
 },
 "nbformat": 4,
 "nbformat_minor": 2
}
